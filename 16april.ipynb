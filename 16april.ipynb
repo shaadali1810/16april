{
 "cells": [
  {
   "cell_type": "code",
   "execution_count": 1,
   "id": "e5c4b148-ad1b-4a75-9132-178e851aa186",
   "metadata": {},
   "outputs": [],
   "source": [
    "#1 Boosting is a method used in machine learning to reduce errors in predictive data analysis. Data scientists train machine learning software, called machine learning models, on labeled data to make guesses about unlabeled data. A single machine learning model might make prediction errors depending on the accuracy of the training dataset. For example, if a cat-identifying model has been trained only on images of white cats, it may occasionally misidentify a black cat. Boosting tries to overcome this issue by training multiple models sequentially to improve the accuracy of the overall system."
   ]
  },
  {
   "cell_type": "code",
   "execution_count": 2,
   "id": "f05bbb1c-7d48-4eb7-848d-efb4c279c134",
   "metadata": {},
   "outputs": [],
   "source": [
    "#2 Ease of implementation\n",
    "#Boosting has easy-to-understand and easy-to-interpret algorithms that learn from their mistakes. These algorithms don't require any data preprocessing, and they have built-in routines to handle missing data. In addition, most languages have built-in libraries to implement boosting algorithms with many parameters that can fine-tune performance.\n",
    "\n",
    "#Reduction of bias\n",
    "#Bias is the presence of uncertainty or inaccuracy in machine learning results. Boosting algorithms combine multiple weak learners in a sequential method, which iteratively improves observations. This approach helps to reduce high bias that is common in machine learning models.\n",
    "\n",
    "#Computational efficiency\n",
    "#Boosting algorithms prioritize features that increase predictive accuracy during training. They can help to reduce data attributes and handle large datasets efficiently."
   ]
  },
  {
   "cell_type": "code",
   "execution_count": 6,
   "id": "edb7e95a-7ac3-44e7-b048-533f7e2d4810",
   "metadata": {},
   "outputs": [
    {
     "data": {
      "text/plain": [
       "\"The following are common limitations of boosting modes:\\n\\nVulnerability to outlier data\\nBoosting models are vulnerable to outliers or data values that are different from the rest of the dataset. Because each model attempts to correct the faults of its predecessor, outliers can skew results significantly.\\n\\nReal-time implementation\\nYou might also find it challenging to use boosting for real-time implementation because the algorithm is more complex than other processes. Boosting methods have high adaptability, so you can use a wide variety of model parameters that immediately affect the model's performance.\""
      ]
     },
     "execution_count": 6,
     "metadata": {},
     "output_type": "execute_result"
    }
   ],
   "source": [
    "#2\n",
    "'''The following are common limitations of boosting modes:\n",
    "\n",
    "Vulnerability to outlier data\n",
    "Boosting models are vulnerable to outliers or data values that are different from the rest of the dataset. Because each model attempts to correct the faults of its predecessor, outliers can skew results significantly.\n",
    "\n",
    "Real-time implementation\n",
    "You might also find it challenging to use boosting for real-time implementation because the algorithm is more complex than other processes. Boosting methods have high adaptability, so you can use a wide variety of model parameters that immediately affect the model's performance.'''"
   ]
  },
  {
   "cell_type": "code",
   "execution_count": 7,
   "id": "bbc8921e-99e0-472e-8b92-14a9fc0bc5e7",
   "metadata": {},
   "outputs": [
    {
     "data": {
      "text/plain": [
       "\" understand how boosting works, let's describe how machine learning models make decisions. Although there are many variations in implementation, data scientists often use boosting with decision-tree algorithms:\\n\\nDecision trees\\nDecision trees are data structures in machine learning that work by dividing the dataset into smaller and smaller subsets based on their features. The idea is that decision trees split up the data repeatedly until there is only one class left. For example, the tree may ask a series of yes or no questions and divide the data into categories at every step.\\n\\nBoosting ensemble method\\nBoosting creates an ensemble model by combining several weak decision trees sequentially. It assigns weights to the output of individual trees. Then it gives incorrect classifications from the first decision tree a higher weight and input to the next tree. After numerous cycles, the boosting method combines these weak rules into a single powerful prediction rule.\\n\\nBoosting compared to bagging\\nBoosting and bagging are the two common ensemble methods that improve prediction accuracy. The main difference between these learning methods is the method of training. In bagging, data scientists improve the accuracy of weak learners by training several of them at once on multiple datasets. In contrast, boosting trains weak learners one after another.\""
      ]
     },
     "execution_count": 7,
     "metadata": {},
     "output_type": "execute_result"
    }
   ],
   "source": [
    "#3\n",
    "''' understand how boosting works, let's describe how machine learning models make decisions. Although there are many variations in implementation, data scientists often use boosting with decision-tree algorithms:\n",
    "\n",
    "Decision trees\n",
    "Decision trees are data structures in machine learning that work by dividing the dataset into smaller and smaller subsets based on their features. The idea is that decision trees split up the data repeatedly until there is only one class left. For example, the tree may ask a series of yes or no questions and divide the data into categories at every step.\n",
    "\n",
    "Boosting ensemble method\n",
    "Boosting creates an ensemble model by combining several weak decision trees sequentially. It assigns weights to the output of individual trees. Then it gives incorrect classifications from the first decision tree a higher weight and input to the next tree. After numerous cycles, the boosting method combines these weak rules into a single powerful prediction rule.\n",
    "\n",
    "Boosting compared to bagging\n",
    "Boosting and bagging are the two common ensemble methods that improve prediction accuracy. The main difference between these learning methods is the method of training. In bagging, data scientists improve the accuracy of weak learners by training several of them at once on multiple datasets. In contrast, boosting trains weak learners one after another.'''"
   ]
  },
  {
   "cell_type": "code",
   "execution_count": 8,
   "id": "c02c0849-f273-48ec-8271-11bd86d54ec1",
   "metadata": {},
   "outputs": [
    {
     "data": {
      "text/plain": [
       "'The following are the three main types of boosting:\\n\\nAdaptive boosting\\nAdaptive Boosting (AdaBoost) was one of the earliest boosting models developed. It adapts and tries to self-correct in every iteration of the boosting process. \\n\\nAdaBoost initially gives the same weight to each dataset. Then, it automatically adjusts the weights of the data points after every decision tree. It gives more weight to incorrectly classified items to correct them for the next round. It repeats the process until the residual error, or the difference between actual and predicted values, falls below an acceptable threshold.\\n\\nYou can use AdaBoost with many predictors, and it is typically not as sensitive as other boosting algorithms. This approach does not work well when there is a correlation among features or high data dimensionality. Overall, AdaBoost is a suitable type of boosting for classification problems.\\n\\nGradient boosting\\nGradient Boosting (GB) is similar to AdaBoost in that it, too, is a sequential training technique. The difference between AdaBoost and GB is that GB does not give incorrectly classified items more weight. Instead, GB software optimizes the loss function by generating base learners sequentially so that the present base learner is always more effective than the previous one. This method attempts to generate accurate results initially instead of correcting errors throughout the process, like AdaBoost. For this reason, GB software can lead to more accurate results. Gradient Boosting can help with both classification and regression-based problems.\\n\\nExtreme gradient boosting\\nExtreme Gradient Boosting (XGBoost) improves gradient boosting for computational speed and scale in several ways. XGBoost uses multiple cores on the CPU so that learning can occur in parallel during training. It is a boosting algorithm that can handle extensive datasets, making it attractive for big data applications. The key features of XGBoost are parallelization, distributed computing, cache optimization, and out-of-core processing'"
      ]
     },
     "execution_count": 8,
     "metadata": {},
     "output_type": "execute_result"
    }
   ],
   "source": [
    "#4\n",
    "'''The following are the three main types of boosting:\n",
    "\n",
    "Adaptive boosting\n",
    "Adaptive Boosting (AdaBoost) was one of the earliest boosting models developed. It adapts and tries to self-correct in every iteration of the boosting process. \n",
    "\n",
    "AdaBoost initially gives the same weight to each dataset. Then, it automatically adjusts the weights of the data points after every decision tree. It gives more weight to incorrectly classified items to correct them for the next round. It repeats the process until the residual error, or the difference between actual and predicted values, falls below an acceptable threshold.\n",
    "\n",
    "You can use AdaBoost with many predictors, and it is typically not as sensitive as other boosting algorithms. This approach does not work well when there is a correlation among features or high data dimensionality. Overall, AdaBoost is a suitable type of boosting for classification problems.\n",
    "\n",
    "Gradient boosting\n",
    "Gradient Boosting (GB) is similar to AdaBoost in that it, too, is a sequential training technique. The difference between AdaBoost and GB is that GB does not give incorrectly classified items more weight. Instead, GB software optimizes the loss function by generating base learners sequentially so that the present base learner is always more effective than the previous one. This method attempts to generate accurate results initially instead of correcting errors throughout the process, like AdaBoost. For this reason, GB software can lead to more accurate results. Gradient Boosting can help with both classification and regression-based problems.\n",
    "\n",
    "Extreme gradient boosting\n",
    "Extreme Gradient Boosting (XGBoost) improves gradient boosting for computational speed and scale in several ways. XGBoost uses multiple cores on the CPU so that learning can occur in parallel during training. It is a boosting algorithm that can handle extensive datasets, making it attractive for big data applications. The key features of XGBoost are parallelization, distributed computing, cache optimization, and out-of-core processing'''"
   ]
  },
  {
   "cell_type": "code",
   "execution_count": 9,
   "id": "50a2befa-4a0e-496b-9dd7-e16ce60d7993",
   "metadata": {},
   "outputs": [
    {
     "data": {
      "text/plain": [
       "\"Parameter\\tDescription\\nmax_depth\\tThe maximum depth of a tree. Used to control over-fitting.\\nmax_leaf_nodes\\tThe maximum number of terminal nodes or leaves in a tree.\\ngamma\\tSpecifies the minimum loss reduction required to make a split.\\nmax_delta_step\\tAllows each tree's weight estimation to be constrained.\""
      ]
     },
     "execution_count": 9,
     "metadata": {},
     "output_type": "execute_result"
    }
   ],
   "source": [
    "#5\n",
    "'''Parameter\tDescription\n",
    "max_depth\tThe maximum depth of a tree. Used to control over-fitting.\n",
    "max_leaf_nodes\tThe maximum number of terminal nodes or leaves in a tree.\n",
    "gamma\tSpecifies the minimum loss reduction required to make a split.\n",
    "max_delta_step\tAllows each tree's weight estimation to be constrained.'''"
   ]
  },
  {
   "cell_type": "code",
   "execution_count": 10,
   "id": "9e2f655e-2e4b-4bc9-a607-5f4429599810",
   "metadata": {},
   "outputs": [],
   "source": [
    "#6Boosting is an ensemble learning method that combines a set of weak learners into a strong learner to minimize training errors. In boosting, a random sample of data is selected, fitted with a model and then trained sequentially—that is, each model tries to compensate for the weaknesses of its predecessor."
   ]
  },
  {
   "cell_type": "code",
   "execution_count": 11,
   "id": "79aca22d-9628-40f0-9729-2d6cad7aac1d",
   "metadata": {},
   "outputs": [],
   "source": [
    "#7AdaBoost, short for Adaptive Boosting, is an ensemble machine learning algorithm that can be used in a wide variety of classification and regression tasks. It is a supervised learning algorithm that is used to classify data by combining multiple weak or base learners (e.g., decision trees) into a strong learner."
   ]
  },
  {
   "cell_type": "code",
   "execution_count": 12,
   "id": "228d57de-db65-4b56-854b-e0fb72e5b8a9",
   "metadata": {},
   "outputs": [],
   "source": [
    "#8The error function that AdaBoost uses is an exponential loss function. First we find the products between the true values of training samples and the overall prediction for each sample. Then we take the sum of all the exponentials of these products in order to compute the error at iteration m."
   ]
  },
  {
   "cell_type": "code",
   "execution_count": null,
   "id": "d7c1fca2-37d9-4302-b767-35f9e0e00b23",
   "metadata": {},
   "outputs": [],
   "source": [
    "#9After training a classifier at any level, AdaBoost assigns weight to each training item. Misclassified item is assigned a higher weight so that it appears in the training subset of the next classifier with a higher probability"
   ]
  }
 ],
 "metadata": {
  "kernelspec": {
   "display_name": "Python 3 (ipykernel)",
   "language": "python",
   "name": "python3"
  },
  "language_info": {
   "codemirror_mode": {
    "name": "ipython",
    "version": 3
   },
   "file_extension": ".py",
   "mimetype": "text/x-python",
   "name": "python",
   "nbconvert_exporter": "python",
   "pygments_lexer": "ipython3",
   "version": "3.10.8"
  }
 },
 "nbformat": 4,
 "nbformat_minor": 5
}
